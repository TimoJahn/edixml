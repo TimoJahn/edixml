{
 "cells": [
  {
   "cell_type": "markdown",
   "metadata": {},
   "source": [
    "# UN/EDIFACT Message Reader\n",
    "\n",
    "## Overview\n",
    "\n",
    "### Requirements\n",
    "\n",
    "- Python 3.6 or higher\n",
    "\n",
    "### Features\n",
    "- All encodings\n",
    "- Version independent\n",
    "- XML\n",
    "\n",
    "### Functions\n",
    "\n",
    "- parse_edi(data: bytes)                -> list\n",
    "- make_edi(segments: list)              -> bytes\n",
    "- parse_xml(root: ElementTree.Element)  -> list\n",
    "- make_xml(segments: list)              -> ElementTree.Element\n",
    "- pretty_xml(root: ElementTree.Element) -> str\n",
    "\n",
    "### Experimental\n",
    "- report(segments: list)                           -> str\n",
    "- make_edi_xml(segments: list, sd: dict, ed: dict) -> ElementTree.Element"
   ]
  },
  {
   "cell_type": "markdown",
   "metadata": {},
   "source": [
    "## EDI\n",
    "Specifications can be found here http://www.unece.org"
   ]
  },
  {
   "cell_type": "markdown",
   "metadata": {},
   "source": [
    "### Example message\n",
    "Reading a binary edifact file"
   ]
  },
  {
   "cell_type": "code",
   "execution_count": 1,
   "metadata": {
    "scrolled": true
   },
   "outputs": [
    {
     "data": {
      "text/plain": [
       "b\"UNA:+.? 'UNB+UNOY:4+INVALIDATORSTUDIO:1+BYTESREADER:1+20180630:1159+6002'UNH+123\""
      ]
     },
     "execution_count": 1,
     "metadata": {},
     "output_type": "execute_result"
    }
   ],
   "source": [
    "edi = open('order.edi', 'rb').read()\n",
    "edi[:80]  # frist 80 bytes\n"
   ]
  },
  {
   "cell_type": "markdown",
   "metadata": {},
   "source": [
    "The decoding of an edifact message depends on the optional __UNB__-Segment. \n",
    "\n",
    "In this example __UNOY__ indicates __UTF-8__-encoding."
   ]
  },
  {
   "cell_type": "code",
   "execution_count": 2,
   "metadata": {},
   "outputs": [
    {
     "data": {
      "text/plain": [
       "{'ENCODING': 'utf8'}"
      ]
     },
     "execution_count": 2,
     "metadata": {},
     "output_type": "execute_result"
    }
   ],
   "source": [
    "from edixml import ENCODINGS\n",
    "\n",
    "ENCODINGS['UNOY']"
   ]
  },
  {
   "cell_type": "code",
   "execution_count": 3,
   "metadata": {},
   "outputs": [
    {
     "data": {
      "text/plain": [
       "\"UNA:+.? 'UNB+UNOY:4+INVALIDATORSTUDIO:1+BYTESREADER:1+20180630:1159+6002'UNH+123\""
      ]
     },
     "execution_count": 3,
     "metadata": {},
     "output_type": "execute_result"
    }
   ],
   "source": [
    "edi.decode('utf8')[:80]"
   ]
  },
  {
   "cell_type": "markdown",
   "metadata": {},
   "source": [
    "### Message-Syntax\n",
    "\n",
    "The __UNB-Segment__ indicates the encoding and __Syntax-Version__ for the __Service-Segments__.\n",
    "\n",
    "The type of the message is indicated in the __UNH-Segment__. <br>\n",
    "In this example the version of the message is __D18A__ (Year 2018, 1st release) and the type of the message is __ORDERS__.\n",
    "\n",
    "\n",
    "The __UNA-Segment__ indicates the _special characters_, for splitting the message in its __Segments__, __Dataelements__ and __Components__\n",
    "\n",
    "- Each __Segment__ is identified by its three character __Segment Qualifier__ (UNA, UNB, UNH...) and ends by its __Segment-Terminator__ (')\n",
    "- Each __Segment__ has __Dataelements__, separated by its __Dataelement-Separator__ (+)\n",
    "- Each __Dataelement__ has __Components__, separated by its __Component-Separator__ (:)\n",
    "- The __Decimal-Point-Character__ (.) defines the representation of __Numeric-Values__,"
   ]
  },
  {
   "cell_type": "code",
   "execution_count": 4,
   "metadata": {},
   "outputs": [
    {
     "data": {
      "text/plain": [
       "[['UNA', [':', '+', '.', '?', ' ', \"'\"]],\n",
       " ['UNB',\n",
       "  [['UNOY', '4'],\n",
       "   ['INVALIDATORSTUDIO', '1'],\n",
       "   ['BYTESREADER', '1'],\n",
       "   ['20180630', '1159'],\n",
       "   ['6002']]],\n",
       " ['UNH', [['123456'], ['ORDERS', 'D', '18A', 'UN', 'EAN008']]],\n",
       " ['BGM', [['220'], ['4711'], ['9']]],\n",
       " ['DTM', [['137', '20180630', '102']]],\n",
       " ['NAD', [['BY'], ['31-424-2022', '', '16']]],\n",
       " ['NAD', [['SU'], ['34-093-1588', '', '16']]],\n",
       " ['LIN', [['1'], ['1'], ['0764569104', 'IB']]],\n",
       " ['QTY', [['1', '25']]],\n",
       " ['FTX', [['AFM'], ['1'], [''], [\"XPATH 2.0 PROGRAMMER'S REFERENCE\"]]],\n",
       " ['LIN', [['2'], ['1'], ['0764569090', 'IB']]],\n",
       " ['QTY', [['1', '25']]],\n",
       " ['FTX', [['AFM'], ['1'], [''], [\"XSLT 2.0 PROGRAMMER'S REFERENCE\"]]],\n",
       " ['LIN', [['3'], ['1'], ['1861004656', 'IB']]],\n",
       " ['QTY', [['1', '16']]],\n",
       " ['FTX', [['AFM'], ['1'], [''], ['JAVA SERVER PROGRAMMING']]],\n",
       " ['LIN', [['4'], ['1'], ['0-19-501476-6', 'IB']]],\n",
       " ['QTY', [['1', '10']]],\n",
       " ['FTX', [['AFM'], ['1'], [''], ['TZUN TZU']]],\n",
       " ['UNS', [['S']]],\n",
       " ['CNT', [['2', '4']]],\n",
       " ['UNT', [['22'], ['SSDD1']]],\n",
       " ['UNZ', [['1'], ['6002']]]]"
      ]
     },
     "execution_count": 4,
     "metadata": {},
     "output_type": "execute_result"
    }
   ],
   "source": [
    "from edixml import parse_edi\n",
    "segments = parse_edi(edi)\n",
    "segments"
   ]
  },
  {
   "cell_type": "markdown",
   "metadata": {},
   "source": [
    "### Indexing"
   ]
  },
  {
   "cell_type": "code",
   "execution_count": 5,
   "metadata": {},
   "outputs": [
    {
     "data": {
      "text/plain": [
       "['LIN', [['1'], ['1'], ['0764569104', 'IB']]]"
      ]
     },
     "execution_count": 5,
     "metadata": {},
     "output_type": "execute_result"
    }
   ],
   "source": [
    "segments[7]\n",
    "['LIN', [['1'], ['1'], ['0764569104', 'IB']]]"
   ]
  },
  {
   "cell_type": "code",
   "execution_count": 6,
   "metadata": {},
   "outputs": [
    {
     "data": {
      "text/plain": [
       "'LIN'"
      ]
     },
     "execution_count": 6,
     "metadata": {},
     "output_type": "execute_result"
    }
   ],
   "source": [
    "seg, elements = segments[7]\n",
    "seg"
   ]
  },
  {
   "cell_type": "code",
   "execution_count": 7,
   "metadata": {},
   "outputs": [
    {
     "data": {
      "text/plain": [
       "[['1'], ['1'], ['0764569104', 'IB']]"
      ]
     },
     "execution_count": 7,
     "metadata": {},
     "output_type": "execute_result"
    }
   ],
   "source": [
    "elements"
   ]
  },
  {
   "cell_type": "markdown",
   "metadata": {},
   "source": [
    "###  Semantics - Code Table\n",
    "For __each__ version there are:\n",
    "\n",
    "- hundreds of message-code-tables\n",
    "- hundreds of segment-code-tables\n",
    "- hundrets of element-code-tables with over 10.000 different codes\n",
    "\n",
    "The _full_ implementation of one message for one version was expected to take half a year."
   ]
  },
  {
   "cell_type": "markdown",
   "metadata": {},
   "source": [
    "- LIN - Segment-table: https://service.unece.org/trade/untdid/d18a/trsd/trsdlin.htm\n",
    "- 7143 - Code-table: https://service.unece.org/trade/untdid/d18a/tred/tred7143.htm"
   ]
  },
  {
   "cell_type": "code",
   "execution_count": 8,
   "metadata": {},
   "outputs": [
    {
     "data": {
      "text/plain": [
       "['0764569104', '0764569090', '1861004656', '0-19-501476-6']"
      ]
     },
     "execution_count": 8,
     "metadata": {},
     "output_type": "execute_result"
    }
   ],
   "source": [
    "isbns = [elements[2][0] for seg, elements in segments \n",
    "         if seg == 'LIN' and elements[2][1] == 'IB']\n",
    "isbns"
   ]
  },
  {
   "cell_type": "markdown",
   "metadata": {},
   "source": [
    "### Formatting"
   ]
  },
  {
   "cell_type": "code",
   "execution_count": 9,
   "metadata": {},
   "outputs": [
    {
     "name": "stdout",
     "output_type": "stream",
     "text": [
      "UNA✉☺☣☎ ❤\n",
      "UNB☺UNOY✉4☺INVALIDATORSTUDIO✉1☺BYTESREADER✉1☺20180630✉1159☺6002❤\n",
      "UNH☺123456☺ORDERS✉D✉18A✉UN✉EAN008❤\n",
      "BGM☺220☺4711☺9❤\n",
      "DTM☺137✉20180630✉102❤\n",
      "NAD☺BY☺31-424-2022✉✉16❤\n",
      "NAD☺SU☺34-093-1588✉✉16❤\n",
      "LIN☺1☺1☺0764569104✉IB❤\n",
      "QTY☺1✉25❤\n",
      "FTX☺AFM☺1☺☺XPATH 2.0 PROGRAMMER'S REFERENCE❤\n",
      "LIN☺2☺1☺0764569090✉IB❤\n",
      "QTY☺1✉25❤\n",
      "FTX☺AFM☺1☺☺XSLT 2.0 PROGRAMMER'S REFERENCE❤\n",
      "LIN☺3☺1☺1861004656✉IB❤\n",
      "QTY☺1✉16❤\n",
      "FTX☺AFM☺1☺☺JAVA SERVER PROGRAMMING❤\n",
      "LIN☺4☺1☺0-19-501476-6✉IB❤\n",
      "QTY☺1✉10❤\n",
      "FTX☺AFM☺1☺☺TZUN TZU❤\n",
      "UNS☺S❤\n",
      "CNT☺2✉4❤\n",
      "UNT☺22☺SSDD1❤\n",
      "UNZ☺1☺6002❤\n"
     ]
    }
   ],
   "source": [
    "from edixml import make_edi\n",
    "edmoji = make_edi(segments, \n",
    "                  component_separator='✉',\n",
    "                  dataelement_separator='☺',\n",
    "                  decimal_mark='☣',\n",
    "                  release_char='☎',\n",
    "                  segment_terminator='❤',\n",
    "                  with_newline=True)\n",
    "\n",
    "print(edmoji.decode('utf8'))"
   ]
  },
  {
   "cell_type": "markdown",
   "metadata": {},
   "source": [
    "## XML"
   ]
  },
  {
   "cell_type": "markdown",
   "metadata": {},
   "source": [
    "### Mapping to XML"
   ]
  },
  {
   "cell_type": "code",
   "execution_count": 10,
   "metadata": {},
   "outputs": [
    {
     "data": {
      "text/plain": [
       "xml.etree.ElementTree.Element"
      ]
     },
     "execution_count": 10,
     "metadata": {},
     "output_type": "execute_result"
    }
   ],
   "source": [
    "from edixml import make_xml\n",
    "xml = make_xml(segments)\n",
    "type(xml)"
   ]
  },
  {
   "cell_type": "markdown",
   "metadata": {},
   "source": [
    "### Indexing"
   ]
  },
  {
   "cell_type": "code",
   "execution_count": 11,
   "metadata": {},
   "outputs": [
    {
     "data": {
      "text/plain": [
       "'LIN'"
      ]
     },
     "execution_count": 11,
     "metadata": {},
     "output_type": "execute_result"
    }
   ],
   "source": [
    "xml[7].tag"
   ]
  },
  {
   "cell_type": "markdown",
   "metadata": {},
   "source": [
    "### Index-Semantics"
   ]
  },
  {
   "cell_type": "code",
   "execution_count": 12,
   "metadata": {},
   "outputs": [
    {
     "data": {
      "text/plain": [
       "['0764569104', '0764569090', '1861004656', '0-19-501476-6']"
      ]
     },
     "execution_count": 12,
     "metadata": {},
     "output_type": "execute_result"
    }
   ],
   "source": [
    "isbns = [elements[2][0].text for elements in xml \n",
    "         if elements.tag == 'LIN' and elements[2][1].text == 'IB']\n",
    "isbns"
   ]
  },
  {
   "cell_type": "markdown",
   "metadata": {},
   "source": [
    "### Formatting"
   ]
  },
  {
   "cell_type": "code",
   "execution_count": 13,
   "metadata": {},
   "outputs": [
    {
     "data": {
      "text/plain": [
       "\"<?xml version='1.0' encoding='utf8'?>\\n<EDIFACT><UNA>:+.? '</UNA><UNB><UNB0><UNB00>UNOY</UNB00><UNB01\""
      ]
     },
     "execution_count": 13,
     "metadata": {},
     "output_type": "execute_result"
    }
   ],
   "source": [
    "from xml.etree import ElementTree\n",
    "\n",
    "ElementTree.tostring(xml, encoding='utf8').decode('utf8')[:100]"
   ]
  },
  {
   "cell_type": "code",
   "execution_count": 14,
   "metadata": {},
   "outputs": [
    {
     "name": "stdout",
     "output_type": "stream",
     "text": [
      "<?xml version=\"1.0\" ?>\n",
      "<EDIFACT>\n",
      "    <UNA>:+.? '</UNA>\n",
      "    <UNB>\n",
      "        <UNB0>\n",
      "            <UNB00>UNOY</UNB00>\n",
      "            <UNB01>4</UNB01>\n"
     ]
    }
   ],
   "source": [
    "from edixml import pretty_xml\n",
    "\n",
    "print(pretty_xml(xml)[:140])"
   ]
  },
  {
   "cell_type": "markdown",
   "metadata": {},
   "source": [
    "## Mapping EDI/XML"
   ]
  },
  {
   "cell_type": "code",
   "execution_count": 15,
   "metadata": {},
   "outputs": [
    {
     "data": {
      "text/plain": [
       "True"
      ]
     },
     "execution_count": 15,
     "metadata": {},
     "output_type": "execute_result"
    }
   ],
   "source": [
    "from edixml import parse_xml\n",
    "\n",
    "edi == make_edi(parse_xml(xml))\n"
   ]
  },
  {
   "cell_type": "code",
   "execution_count": 16,
   "metadata": {},
   "outputs": [
    {
     "data": {
      "text/plain": [
       "True"
      ]
     },
     "execution_count": 16,
     "metadata": {},
     "output_type": "execute_result"
    }
   ],
   "source": [
    "edi == make_edi(parse_xml(make_xml(parse_edi(edi))))"
   ]
  },
  {
   "cell_type": "code",
   "execution_count": 17,
   "metadata": {},
   "outputs": [
    {
     "data": {
      "text/plain": [
       "True"
      ]
     },
     "execution_count": 17,
     "metadata": {},
     "output_type": "execute_result"
    }
   ],
   "source": [
    "edi == make_edi(parse_xml(make_xml(parse_edi(edmoji))))"
   ]
  },
  {
   "cell_type": "markdown",
   "metadata": {},
   "source": [
    "## Experimental - D18A with Service-Segments (Version 4, Release 2)"
   ]
  },
  {
   "cell_type": "markdown",
   "metadata": {},
   "source": [
    "### Messages, Segments and Elements in JSON"
   ]
  },
  {
   "cell_type": "code",
   "execution_count": 18,
   "metadata": {},
   "outputs": [
    {
     "name": "stdout",
     "output_type": "stream",
     "text": [
      "Version: D18A, Messages: 210, Segments: 190, Codes: 12092\n"
     ]
    }
   ],
   "source": [
    "import json\n",
    "\n",
    "# The Service-Segments and Service-Elements\n",
    "v42_sd = json.loads(open('V42-9735-10_service_segments.json').read())\n",
    "v42_ed = json.loads(open('V42-9735-10_service_codes.json').read())\n",
    "\n",
    "# The Segments, Elements and Messages\n",
    "d18a_sd = json.loads(open('d18a_segments.json').read())\n",
    "d18a_ed = json.loads(open('d18a_codes.json').read())\n",
    "d18a_md = json.loads(open('d18a_messages.json').read())  # only description\n",
    "\n",
    "sd = {**v42_sd, **d18a_sd}\n",
    "ed = {**v42_ed, **d18a_ed}\n",
    "md = {**d18a_md}\n",
    "\n",
    "total_codes = sum([len(ed[code]['table']) if 'table' in ed[code] else 0 \n",
    "                   for code in ed])\n",
    "        \n",
    "print(f\"Version: D18A, Messages: {len(md)}, Segments: {len(sd)}, Codes: {total_codes}\")\n"
   ]
  },
  {
   "cell_type": "markdown",
   "metadata": {},
   "source": [
    "### Segment-Definitions"
   ]
  },
  {
   "cell_type": "code",
   "execution_count": 19,
   "metadata": {},
   "outputs": [
    {
     "data": {
      "text/plain": [
       "('LINE ITEM',\n",
       " 'Function: To identify a line item and configuration.',\n",
       " {'code': '1082',\n",
       "  'mc': 'C',\n",
       "  'name': 'LINE ITEM IDENTIFIER',\n",
       "  'pos': '010',\n",
       "  'repeat': 1,\n",
       "  'representation': 'an..6'})"
      ]
     },
     "execution_count": 19,
     "metadata": {},
     "output_type": "execute_result"
    }
   ],
   "source": [
    "sd['LIN']['name'], sd['LIN']['description'], sd['LIN']['table'][0]"
   ]
  },
  {
   "cell_type": "markdown",
   "metadata": {},
   "source": [
    "### Element Definitions"
   ]
  },
  {
   "cell_type": "code",
   "execution_count": 20,
   "metadata": {},
   "outputs": [
    {
     "data": {
      "text/plain": [
       "('Item type identification code',\n",
       " {'description': 'A unique number identifying a book.',\n",
       "  'name': 'ISBN (International Standard Book Number)'})"
      ]
     },
     "execution_count": 20,
     "metadata": {},
     "output_type": "execute_result"
    }
   ],
   "source": [
    "ed['7143']['name'], ed['7143']['table']['IB']"
   ]
  },
  {
   "cell_type": "markdown",
   "metadata": {},
   "source": [
    "### Message Definition"
   ]
  },
  {
   "cell_type": "code",
   "execution_count": 21,
   "metadata": {},
   "outputs": [
    {
     "name": "stdout",
     "output_type": "stream",
     "text": [
      "Pos     Tag Name                                        S   R\n",
      "   \n",
      "            HEADER SECTION   \n",
      "   \n",
      "00010   UNH Message header                              M   1     \n",
      "00020   BGM Beginning of message                        M   1     \n",
      "00030   DTM Date/time/period                            M   35    \n",
      "00040   PAI Payment instructions                        C   1     \n",
      "00050   ALI Additional information                      C   5     \n",
      "00060   IMD Item description                            C   999   \n",
      "00070   FTX Free text                                   C   99    \n",
      "00080   GIR Related identification numbers              C   10    \n",
      "   \n",
      "00090       ---- Segment group 1  ------------------    C   9999-------------+\n",
      "00100   RFF Reference                                   M   1                |\n",
      "00110   DTM Date/time/period                            C   5----------------+\n",
      "   \n",
      "00120       ---- Segment group 2  ------------------    C   99---------------+\n",
      "00130   NAD Name and address                            M   1                |\n",
      "00140   LOC Place/location identification               C   99               |\n",
      "00150   FII Financial institution information           C   5                |\n",
      "    ...\n"
     ]
    }
   ],
   "source": [
    "print(md['ORDERS']['description'][:1200], '...')"
   ]
  },
  {
   "cell_type": "markdown",
   "metadata": {},
   "source": [
    "### Reporting\n",
    "Helper Function to quickly translate an arbitrary message."
   ]
  },
  {
   "cell_type": "code",
   "execution_count": 22,
   "metadata": {
    "scrolled": false
   },
   "outputs": [
    {
     "name": "stdout",
     "output_type": "stream",
     "text": [
      "UNB+UNOY:4+INVALIDATORSTUDIO:1+BYTESREADER:1+20180630:1159+6002'\n",
      "----------------------------------------------------------------\n",
      "Interchange header <UNB>\n",
      "  SYNTAX IDENTIFIER (S001)\n",
      "    Syntax identifier <UNOY> (0001) UN/ECE level Y\n",
      "    Syntax version number <4> (0002) Version 4\n",
      "  INTERCHANGE SENDER (S002)\n",
      "    Interchange sender identification <INVALIDATORSTUDIO> (0004)\n",
      "    Identification code qualifier <1> (0007) DUNS (Data Universal Numbering System)\n",
      "  INTERCHANGE RECIPIENT (S003)\n",
      "    Interchange recipient identification <BYTESREADER> (0010)\n",
      "    Identification code qualifier <1> (0007) DUNS (Data Universal Numbering System)\n",
      "  DATE AND TIME OF PREPARATION (S004)\n",
      "    Date <20180630> (0017)\n",
      "    Time <1159> (0019)\n",
      "    Interchange control reference <6002> (0020)\n",
      "\n",
      "UNH+123456+ORDERS:D:18A:UN:EAN008'\n",
      "----------------------------------\n",
      "MESSAGE HEADER <UNH>\n",
      "    Message reference number <123456> (0062)\n",
      "  MESSAGE IDENTIFIER (S009)\n",
      "    Message type <ORDERS> (0065) Purchase order message\n",
      "    Message version number <D> (0052) Draft version/UN/EDIFACT Directory\n",
      "    Message release number <18A> (0054) Release 2018 - B\n",
      "    Controlling agency, coded <UN> (0051) UN/CEFACT\n",
      "    Association assigned code <EAN008> (0057) GS1 version control number (GS1 Permanent Code)\n",
      "\n",
      "BGM+220+4711+9'\n",
      "---------------\n",
      "BEGINNING OF MESSAGE <BGM>\n",
      "  DOCUMENT/MESSAGE NAME (C002)\n",
      "    Document name code <220> (1001) Order\n",
      "  DOCUMENT/MESSAGE IDENTIFICATION (C106)\n",
      "    Document identifier <4711> (1004)\n",
      "    MESSAGE FUNCTION CODE <9> (1225) Original\n",
      "\n",
      "DTM+137:20180630:102'\n",
      "---------------------\n",
      "DATE/TIME/PERIOD <DTM>\n",
      "  DATE/TIME/PERIOD (C507)\n",
      "    Date or time or period function code qualifier <137> (2005) Document issue date time\n",
      "    Date or time or period text <20180630> (2380)\n",
      "    Date or time or period format code <102> (2379) CCYYMMDD\n",
      "\n",
      "NAD+BY+31-424-2022::16'\n",
      "-----------------------\n",
      "NAME AND ADDRESS <NAD>\n",
      "    PARTY FUNCTION CODE QUALIFIER <BY> (3035) Buyer\n",
      "  PARTY IDENTIFICATION DETAILS (C082)\n",
      "    Party identifier <31-424-2022> (3039)\n",
      "    Code list identification code <> (1131)\n",
      "    Code list responsible agency code <16> (3055) US, D&B (Dun & Bradstreet Corporation)\n",
      "\n",
      "NAD+SU+34-093-1588::16'\n",
      "-----------------------\n",
      "NAME AND ADDRESS <NAD>\n",
      "    PARTY FUNCTION CODE QUALIFIER <SU> (3035) Supplier\n",
      "  PARTY IDENTIFICATION DETAILS (C082)\n",
      "    Party identifier <34-093-1588> (3039)\n",
      "    Code list identification code <> (1131)\n",
      "    Code list responsible agency code <16> (3055) US, D&B (Dun & Bradstreet Corporation)\n",
      "\n",
      "LIN+1+1+0764569104:IB'\n",
      "----------------------\n",
      "LINE ITEM <LIN>\n",
      "    LINE ITEM IDENTIFIER <1> (1082)\n",
      "    ACTION CODE <1> (1229) Added\n",
      "  ITEM NUMBER IDENTIFICATION (C212)\n",
      "    Item identifier <0764569104> (7140)\n",
      "    Item type identification code <IB> (7143) ISBN (International Standard Book Number)\n",
      "\n",
      "QTY+1:25'\n",
      "---------\n",
      "QUANTITY <QTY>\n",
      "  QUANTITY DETAILS (C186)\n",
      "    Quantity type code qualifier <1> (6063) Discrete quantity\n",
      "    Quantity <25> (6060)\n",
      "\n",
      "FTX+AFM+1++XPATH 2.0 PROGRAMMER?'S REFERENCE'\n",
      "---------------------------------------------\n",
      "FREE TEXT <FTX>\n",
      "    TEXT SUBJECT CODE QUALIFIER <AFM> (4451) Title\n",
      "    FREE TEXT FUNCTION CODE <1> (4453) Text for subsequent use\n",
      "  TEXT REFERENCE (C107)\n",
      "    Free text description code <> (4441)\n",
      "  TEXT LITERAL (C108)\n",
      "    Free text <XPATH 2.0 PROGRAMMER'S REFERENCE> (4440)\n",
      "\n",
      "LIN+2+1+0764569090:IB'\n",
      "----------------------\n",
      "LINE ITEM <LIN>\n",
      "    LINE ITEM IDENTIFIER <2> (1082)\n",
      "    ACTION CODE <1> (1229) Added\n",
      "  ITEM NUMBER IDENTIFICATION (C212)\n",
      "    Item identifier <0764569090> (7140)\n",
      "    Item type identification code <IB> (7143) ISBN (International Standard Book Number)\n",
      "\n",
      "QTY+1:25'\n",
      "---------\n",
      "QUANTITY <QTY>\n",
      "  QUANTITY DETAILS (C186)\n",
      "    Quantity type code qualifier <1> (6063) Discrete quantity\n",
      "    Quantity <25> (6060)\n",
      "\n",
      "FTX+AFM+1++XSLT 2.0 PROGRAMMER?'S REFERENCE'\n",
      "--------------------------------------------\n",
      "FREE TEXT <FTX>\n",
      "    TEXT SUBJECT CODE QUALIFIER <AFM> (4451) Title\n",
      "    FREE TEXT FUNCTION CODE <1> (4453) Text for subsequent use\n",
      "  TEXT REFERENCE (C107)\n",
      "    Free text description code <> (4441)\n",
      "  TEXT LITERAL (C108)\n",
      "    Free text <XSLT 2.0 PROGRAMMER'S REFERENCE> (4440)\n",
      "\n",
      "LIN+3+1+1861004656:IB'\n",
      "----------------------\n",
      "LINE ITEM <LIN>\n",
      "    LINE ITEM IDENTIFIER <3> (1082)\n",
      "    ACTION CODE <1> (1229) Added\n",
      "  ITEM NUMBER IDENTIFICATION (C212)\n",
      "    Item identifier <1861004656> (7140)\n",
      "    Item type identification code <IB> (7143) ISBN (International Standard Book Number)\n",
      "\n",
      "QTY+1:16'\n",
      "---------\n",
      "QUANTITY <QTY>\n",
      "  QUANTITY DETAILS (C186)\n",
      "    Quantity type code qualifier <1> (6063) Discrete quantity\n",
      "    Quantity <16> (6060)\n",
      "\n",
      "FTX+AFM+1++JAVA SERVER PROGRAMMING'\n",
      "-----------------------------------\n",
      "FREE TEXT <FTX>\n",
      "    TEXT SUBJECT CODE QUALIFIER <AFM> (4451) Title\n",
      "    FREE TEXT FUNCTION CODE <1> (4453) Text for subsequent use\n",
      "  TEXT REFERENCE (C107)\n",
      "    Free text description code <> (4441)\n",
      "  TEXT LITERAL (C108)\n",
      "    Free text <JAVA SERVER PROGRAMMING> (4440)\n",
      "\n",
      "LIN+4+1+0-19-501476-6:IB'\n",
      "-------------------------\n",
      "LINE ITEM <LIN>\n",
      "    LINE ITEM IDENTIFIER <4> (1082)\n",
      "    ACTION CODE <1> (1229) Added\n",
      "  ITEM NUMBER IDENTIFICATION (C212)\n",
      "    Item identifier <0-19-501476-6> (7140)\n",
      "    Item type identification code <IB> (7143) ISBN (International Standard Book Number)\n",
      "\n",
      "QTY+1:10'\n",
      "---------\n",
      "QUANTITY <QTY>\n",
      "  QUANTITY DETAILS (C186)\n",
      "    Quantity type code qualifier <1> (6063) Discrete quantity\n",
      "    Quantity <10> (6060)\n",
      "\n",
      "FTX+AFM+1++TZUN TZU'\n",
      "--------------------\n",
      "FREE TEXT <FTX>\n",
      "    TEXT SUBJECT CODE QUALIFIER <AFM> (4451) Title\n",
      "    FREE TEXT FUNCTION CODE <1> (4453) Text for subsequent use\n",
      "  TEXT REFERENCE (C107)\n",
      "    Free text description code <> (4441)\n",
      "  TEXT LITERAL (C108)\n",
      "    Free text <TZUN TZU> (4440)\n",
      "\n",
      "UNS+S'\n",
      "------\n",
      "SECTION CONTROL <UNS>\n",
      "    Section identification <S> (0081) Detail/summary section separation\n",
      "\n",
      "CNT+2:4'\n",
      "--------\n",
      "CONTROL TOTAL <CNT>\n",
      "  CONTROL (C270)\n",
      "    Control total type code qualifier <2> (6069) Number of line items in message\n",
      "    Control total quantity <4> (6066)\n",
      "\n",
      "UNT+22+SSDD1'\n",
      "-------------\n",
      "MESSAGE TRAILER <UNT>\n",
      "    Number of segments in a message <22> (0074)\n",
      "    Message reference number <SSDD1> (0062)\n",
      "\n",
      "UNZ+1+6002'\n",
      "-----------\n",
      "Section control <UNZ>\n",
      "    Interchange control count <1> (0036)\n",
      "    Interchange control reference <6002> (0020)\n",
      "\n"
     ]
    }
   ],
   "source": [
    "from edixml import report\n",
    "\n",
    "print(report(segments, sd, ed))"
   ]
  },
  {
   "cell_type": "markdown",
   "metadata": {},
   "source": [
    "### Descriptive EDI-XML"
   ]
  },
  {
   "cell_type": "code",
   "execution_count": 23,
   "metadata": {
    "scrolled": true
   },
   "outputs": [
    {
     "name": "stdout",
     "output_type": "stream",
     "text": [
      "<?xml version=\"1.0\" ?>\n",
      "<EDIFACT>\n",
      "    <UNA>:+.? '</UNA>\n",
      "    <UNB description=\"Function: To identify an interchange\" name=\"Interchange header\">\n",
      "        <UNB0 code=\"S001\" mc=\"M\" name=\"SYNTAX IDENTIFIER\" pos=\"10\" repeat=\"1\">\n",
      "            <UNB00 code=\"0001\" description=\"ISO 10646-1 octet without code exte ...\n"
     ]
    }
   ],
   "source": [
    "from edixml import make_edi_xml\n",
    "\n",
    "edifact_xml = make_edi_xml(segments, sd, ed)\n",
    "print(pretty_xml(edifact_xml)[:300], '...')"
   ]
  },
  {
   "cell_type": "markdown",
   "metadata": {},
   "source": [
    "### Mapping"
   ]
  },
  {
   "cell_type": "code",
   "execution_count": 24,
   "metadata": {},
   "outputs": [
    {
     "data": {
      "text/plain": [
       "True"
      ]
     },
     "execution_count": 24,
     "metadata": {},
     "output_type": "execute_result"
    }
   ],
   "source": [
    "edi == make_edi(parse_xml(edifact_xml))"
   ]
  }
 ],
 "metadata": {
  "kernelspec": {
   "display_name": "Python 3",
   "language": "python",
   "name": "python3"
  },
  "language_info": {
   "codemirror_mode": {
    "name": "ipython",
    "version": 3
   },
   "file_extension": ".py",
   "mimetype": "text/x-python",
   "name": "python",
   "nbconvert_exporter": "python",
   "pygments_lexer": "ipython3",
   "version": "3.6.5"
  }
 },
 "nbformat": 4,
 "nbformat_minor": 2
}
